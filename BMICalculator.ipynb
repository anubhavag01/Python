{
  "nbformat": 4,
  "nbformat_minor": 0,
  "metadata": {
    "colab": {
      "name": "BMICalculator.ipynb",
      "provenance": []
    },
    "kernelspec": {
      "name": "python3",
      "display_name": "Python 3"
    },
    "language_info": {
      "name": "python"
    }
  },
  "cells": [
    {
      "cell_type": "code",
      "metadata": {
        "colab": {
          "base_uri": "https://localhost:8080/"
        },
        "id": "eUjEIWLFSnMn",
        "outputId": "ee94f0bf-ec13-43f2-b380-35a50c22a977"
      },
      "source": [
        "#Enter height and weight\n",
        "height = input(\"Enter your height in m: \")\n",
        "weight = input(\"\\nEnter your weight in kg: \")\n",
        "\n",
        "h=float(height)\n",
        "w=int(weight)\n",
        "BMI=w/(h*h)\n",
        "\n",
        "print(\"\\nYour BMI is \", round(BMI,2))\n",
        "\n",
        "if(BMI<18.5):\n",
        "  print(\"\\nYou are underweight\")\n",
        "elif(18.5<BMI<24.9):\n",
        "  print(\"\\nYou are healthy\")\n",
        "elif(25<BMI<29.9):\n",
        "  print(\"\\nYou are overweight\")\n",
        "else:\n",
        "  print(\"\\nYou are obese\")"
      ],
      "execution_count": 3,
      "outputs": [
        {
          "output_type": "stream",
          "name": "stdout",
          "text": [
            "Enter your height in m: 1.8\n",
            "\n",
            "Enter your weight in kg: 65\n",
            "\n",
            "Your BMI is  20.06\n",
            "\n",
            "You are healthy\n"
          ]
        }
      ]
    }
  ]
}