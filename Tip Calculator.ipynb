{
  "nbformat": 4,
  "nbformat_minor": 0,
  "metadata": {
    "colab": {
      "name": "Tip Calculator.ipynb",
      "provenance": []
    },
    "kernelspec": {
      "name": "python3",
      "display_name": "Python 3"
    },
    "language_info": {
      "name": "python"
    }
  },
  "cells": [
    {
      "cell_type": "code",
      "metadata": {
        "colab": {
          "base_uri": "https://localhost:8080/"
        },
        "id": "PWPVbOT18KqL",
        "outputId": "1b22a653-447b-47c2-f5bc-f80b167839cb"
      },
      "source": [
        "#If the bill was $150.00, split between 5 people, with 12% tip. \n",
        "#Each person should pay (150.00 / 5) * 1.12 = 33.6\n",
        "#Format the result to 2 decimal places = 33.60\n",
        "\n",
        "print(\"Welcome to Tip Calculator!\")\n",
        "total_bill = float(input(\"Enter total bill amount: $\"))\n",
        "total_people = int(input(\"How many people to split the bill: \"))\n",
        "tip_percentage = float(input(\"What percentage tip would you like to give: \"))\n",
        "total_tip = total_bill*tip_percentage/100\n",
        "final_bill = total_bill + total_tip\n",
        "per_person = final_bill/total_people\n",
        "per_person = round(per_person,2)\n",
        "per_person = \"{:.2f}\".format(per_person)\n",
        "print(f\"Each person should pay: ${per_person}\")"
      ],
      "execution_count": 3,
      "outputs": [
        {
          "output_type": "stream",
          "name": "stdout",
          "text": [
            "Welcome to Tip Calculator!\n",
            "Enter total bill amount: $150\n",
            "How many people to split the bill: 5\n",
            "What percentage tip would you like to give: 12\n",
            "Each person should pay: $33.60\n"
          ]
        }
      ]
    }
  ]
}